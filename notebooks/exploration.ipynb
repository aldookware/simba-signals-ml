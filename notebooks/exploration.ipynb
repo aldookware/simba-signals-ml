{
 "cells": [
  {
   "cell_type": "markdown",
   "id": "adbb61a3",
   "metadata": {},
   "source": [
    "# Data Exploration\n",
    "This notebook is used for exploring the raw and processed data."
   ]
  },
  {
   "cell_type": "code",
   "execution_count": null,
   "id": "a735512c",
   "metadata": {},
   "outputs": [],
   "source": [
    "# Import necessary libraries\n",
    "import pandas as pd\n",
    "import matplotlib.pyplot as plt\n",
    "import seaborn as sns"
   ]
  },
  {
   "cell_type": "code",
   "execution_count": null,
   "id": "9e205f53",
   "metadata": {},
   "outputs": [],
   "source": [
    "# Load the data\n",
    "raw_data = pd.read_csv('../data/raw/data.csv')\n",
    "processed_data = pd.read_csv('../data/processed/data.csv')"
   ]
  }
 ],
 "metadata": {
  "kernelspec": {
   "display_name": "venv",
   "language": "python",
   "name": "python3"
  },
  "language_info": {
   "name": "python",
   "version": "3.12.10"
  }
 },
 "nbformat": 4,
 "nbformat_minor": 5
}
